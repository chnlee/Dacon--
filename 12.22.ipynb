{
 "cells": [
  {
   "cell_type": "code",
   "execution_count": 2,
   "id": "2f4e252c",
   "metadata": {},
   "outputs": [
    {
     "data": {
      "text/html": [
       "<div>\n",
       "<style scoped>\n",
       "    .dataframe tbody tr th:only-of-type {\n",
       "        vertical-align: middle;\n",
       "    }\n",
       "\n",
       "    .dataframe tbody tr th {\n",
       "        vertical-align: top;\n",
       "    }\n",
       "\n",
       "    .dataframe thead th {\n",
       "        text-align: right;\n",
       "    }\n",
       "</style>\n",
       "<table border=\"1\" class=\"dataframe\">\n",
       "  <thead>\n",
       "    <tr style=\"text-align: right;\">\n",
       "      <th></th>\n",
       "      <th>id</th>\n",
       "      <th>age</th>\n",
       "      <th>sex</th>\n",
       "      <th>cp</th>\n",
       "      <th>trestbps</th>\n",
       "      <th>chol</th>\n",
       "      <th>fbs</th>\n",
       "      <th>restecg</th>\n",
       "      <th>thalach</th>\n",
       "      <th>exang</th>\n",
       "      <th>oldpeak</th>\n",
       "      <th>slope</th>\n",
       "      <th>ca</th>\n",
       "      <th>thal</th>\n",
       "      <th>target</th>\n",
       "    </tr>\n",
       "  </thead>\n",
       "  <tbody>\n",
       "    <tr>\n",
       "      <th>0</th>\n",
       "      <td>1</td>\n",
       "      <td>53</td>\n",
       "      <td>1</td>\n",
       "      <td>2</td>\n",
       "      <td>130</td>\n",
       "      <td>197</td>\n",
       "      <td>1</td>\n",
       "      <td>0</td>\n",
       "      <td>152</td>\n",
       "      <td>0</td>\n",
       "      <td>1.2</td>\n",
       "      <td>0</td>\n",
       "      <td>0</td>\n",
       "      <td>2</td>\n",
       "      <td>1</td>\n",
       "    </tr>\n",
       "    <tr>\n",
       "      <th>1</th>\n",
       "      <td>2</td>\n",
       "      <td>52</td>\n",
       "      <td>1</td>\n",
       "      <td>3</td>\n",
       "      <td>152</td>\n",
       "      <td>298</td>\n",
       "      <td>1</td>\n",
       "      <td>1</td>\n",
       "      <td>178</td>\n",
       "      <td>0</td>\n",
       "      <td>1.2</td>\n",
       "      <td>1</td>\n",
       "      <td>0</td>\n",
       "      <td>3</td>\n",
       "      <td>1</td>\n",
       "    </tr>\n",
       "    <tr>\n",
       "      <th>2</th>\n",
       "      <td>3</td>\n",
       "      <td>54</td>\n",
       "      <td>1</td>\n",
       "      <td>1</td>\n",
       "      <td>192</td>\n",
       "      <td>283</td>\n",
       "      <td>0</td>\n",
       "      <td>0</td>\n",
       "      <td>195</td>\n",
       "      <td>0</td>\n",
       "      <td>0.0</td>\n",
       "      <td>2</td>\n",
       "      <td>1</td>\n",
       "      <td>3</td>\n",
       "      <td>0</td>\n",
       "    </tr>\n",
       "    <tr>\n",
       "      <th>3</th>\n",
       "      <td>4</td>\n",
       "      <td>45</td>\n",
       "      <td>0</td>\n",
       "      <td>0</td>\n",
       "      <td>138</td>\n",
       "      <td>236</td>\n",
       "      <td>0</td>\n",
       "      <td>0</td>\n",
       "      <td>152</td>\n",
       "      <td>1</td>\n",
       "      <td>0.2</td>\n",
       "      <td>1</td>\n",
       "      <td>0</td>\n",
       "      <td>2</td>\n",
       "      <td>1</td>\n",
       "    </tr>\n",
       "    <tr>\n",
       "      <th>4</th>\n",
       "      <td>5</td>\n",
       "      <td>35</td>\n",
       "      <td>1</td>\n",
       "      <td>1</td>\n",
       "      <td>122</td>\n",
       "      <td>192</td>\n",
       "      <td>0</td>\n",
       "      <td>1</td>\n",
       "      <td>174</td>\n",
       "      <td>0</td>\n",
       "      <td>0.0</td>\n",
       "      <td>2</td>\n",
       "      <td>0</td>\n",
       "      <td>2</td>\n",
       "      <td>1</td>\n",
       "    </tr>\n",
       "    <tr>\n",
       "      <th>...</th>\n",
       "      <td>...</td>\n",
       "      <td>...</td>\n",
       "      <td>...</td>\n",
       "      <td>...</td>\n",
       "      <td>...</td>\n",
       "      <td>...</td>\n",
       "      <td>...</td>\n",
       "      <td>...</td>\n",
       "      <td>...</td>\n",
       "      <td>...</td>\n",
       "      <td>...</td>\n",
       "      <td>...</td>\n",
       "      <td>...</td>\n",
       "      <td>...</td>\n",
       "      <td>...</td>\n",
       "    </tr>\n",
       "    <tr>\n",
       "      <th>146</th>\n",
       "      <td>147</td>\n",
       "      <td>50</td>\n",
       "      <td>1</td>\n",
       "      <td>2</td>\n",
       "      <td>140</td>\n",
       "      <td>233</td>\n",
       "      <td>0</td>\n",
       "      <td>1</td>\n",
       "      <td>163</td>\n",
       "      <td>0</td>\n",
       "      <td>0.6</td>\n",
       "      <td>1</td>\n",
       "      <td>1</td>\n",
       "      <td>3</td>\n",
       "      <td>0</td>\n",
       "    </tr>\n",
       "    <tr>\n",
       "      <th>147</th>\n",
       "      <td>148</td>\n",
       "      <td>51</td>\n",
       "      <td>1</td>\n",
       "      <td>2</td>\n",
       "      <td>94</td>\n",
       "      <td>227</td>\n",
       "      <td>0</td>\n",
       "      <td>1</td>\n",
       "      <td>154</td>\n",
       "      <td>1</td>\n",
       "      <td>0.0</td>\n",
       "      <td>2</td>\n",
       "      <td>1</td>\n",
       "      <td>3</td>\n",
       "      <td>1</td>\n",
       "    </tr>\n",
       "    <tr>\n",
       "      <th>148</th>\n",
       "      <td>149</td>\n",
       "      <td>69</td>\n",
       "      <td>1</td>\n",
       "      <td>3</td>\n",
       "      <td>160</td>\n",
       "      <td>234</td>\n",
       "      <td>1</td>\n",
       "      <td>0</td>\n",
       "      <td>131</td>\n",
       "      <td>0</td>\n",
       "      <td>0.1</td>\n",
       "      <td>1</td>\n",
       "      <td>1</td>\n",
       "      <td>2</td>\n",
       "      <td>1</td>\n",
       "    </tr>\n",
       "    <tr>\n",
       "      <th>149</th>\n",
       "      <td>150</td>\n",
       "      <td>46</td>\n",
       "      <td>1</td>\n",
       "      <td>0</td>\n",
       "      <td>120</td>\n",
       "      <td>249</td>\n",
       "      <td>0</td>\n",
       "      <td>0</td>\n",
       "      <td>144</td>\n",
       "      <td>0</td>\n",
       "      <td>0.8</td>\n",
       "      <td>2</td>\n",
       "      <td>0</td>\n",
       "      <td>3</td>\n",
       "      <td>0</td>\n",
       "    </tr>\n",
       "    <tr>\n",
       "      <th>150</th>\n",
       "      <td>151</td>\n",
       "      <td>63</td>\n",
       "      <td>0</td>\n",
       "      <td>1</td>\n",
       "      <td>140</td>\n",
       "      <td>195</td>\n",
       "      <td>0</td>\n",
       "      <td>1</td>\n",
       "      <td>179</td>\n",
       "      <td>0</td>\n",
       "      <td>0.0</td>\n",
       "      <td>2</td>\n",
       "      <td>2</td>\n",
       "      <td>2</td>\n",
       "      <td>1</td>\n",
       "    </tr>\n",
       "  </tbody>\n",
       "</table>\n",
       "<p>151 rows × 15 columns</p>\n",
       "</div>"
      ],
      "text/plain": [
       "      id  age  sex  cp  trestbps  chol  fbs  restecg  thalach  exang  oldpeak  \\\n",
       "0      1   53    1   2       130   197    1        0      152      0      1.2   \n",
       "1      2   52    1   3       152   298    1        1      178      0      1.2   \n",
       "2      3   54    1   1       192   283    0        0      195      0      0.0   \n",
       "3      4   45    0   0       138   236    0        0      152      1      0.2   \n",
       "4      5   35    1   1       122   192    0        1      174      0      0.0   \n",
       "..   ...  ...  ...  ..       ...   ...  ...      ...      ...    ...      ...   \n",
       "146  147   50    1   2       140   233    0        1      163      0      0.6   \n",
       "147  148   51    1   2        94   227    0        1      154      1      0.0   \n",
       "148  149   69    1   3       160   234    1        0      131      0      0.1   \n",
       "149  150   46    1   0       120   249    0        0      144      0      0.8   \n",
       "150  151   63    0   1       140   195    0        1      179      0      0.0   \n",
       "\n",
       "     slope  ca  thal  target  \n",
       "0        0   0     2       1  \n",
       "1        1   0     3       1  \n",
       "2        2   1     3       0  \n",
       "3        1   0     2       1  \n",
       "4        2   0     2       1  \n",
       "..     ...  ..   ...     ...  \n",
       "146      1   1     3       0  \n",
       "147      2   1     3       1  \n",
       "148      1   1     2       1  \n",
       "149      2   0     3       0  \n",
       "150      2   2     2       1  \n",
       "\n",
       "[151 rows x 15 columns]"
      ]
     },
     "execution_count": 2,
     "metadata": {},
     "output_type": "execute_result"
    }
   ],
   "source": [
    "import pandas as pd\n",
    "import numpy as np\n",
    "import warnings\n",
    "warnings.filterwarnings('ignore')\n",
    "# csv 형식으로 된 데이터 파일을 읽어옵니다.\n",
    "train = pd.read_csv('train.csv')\n",
    "\n",
    "train"
   ]
  },
  {
   "cell_type": "code",
   "execution_count": 4,
   "id": "27b70ba0",
   "metadata": {},
   "outputs": [],
   "source": [
    "# 성능 변화 평가를 위해 data 나누기\n",
    "X = train.iloc[:, 1:-1] \n",
    "Y = train.iloc[:, -1] \n",
    "\n",
    "from sklearn.model_selection import train_test_split\n",
    "x_train, x_val, y_train, y_val = train_test_split(X, Y, test_size=0.5, shuffle=True, random_state=34)"
   ]
  },
  {
   "cell_type": "code",
   "execution_count": 5,
   "id": "f8f0464f",
   "metadata": {},
   "outputs": [],
   "source": [
    "# 성능 출력 함수\n",
    "from sklearn.metrics import f1_score\n",
    "\n",
    "def print_score(predicted, y):\n",
    "    accuracy = sum(predicted == y) / len(y)*100\n",
    "    f1 = f1_score(y, predicted)*100\n",
    "    print(f'accuracy: {accuracy:.2f}%') # 정확도 출력\n",
    "    print(f'f1_score : {f1:.2f}%') # f1 score 출력\n",
    "    return accuracy, f1\n",
    "\n",
    "\n",
    "check_acc = []\n",
    "check_f1 = []"
   ]
  },
  {
   "cell_type": "code",
   "execution_count": 7,
   "id": "6c6e6994",
   "metadata": {},
   "outputs": [
    {
     "name": "stdout",
     "output_type": "stream",
     "text": [
      "accuracy: 80.26%\n",
      "f1_score : 83.87%\n"
     ]
    }
   ],
   "source": [
    "from sklearn.linear_model import LogisticRegression\n",
    "#1단계 train 데이터 준비\n",
    "step_1_train_x = x_train.copy()\n",
    "\n",
    "#1단계 train\n",
    "LR_step_1_model = LogisticRegression()\n",
    "LR_step_1_model.fit(step_1_train_x, y_train)\n",
    "#1단계 validation 데이터 준비\n",
    "step_1_val_x = x_val.copy()\n",
    "\n",
    "#1단계 validaion\n",
    "LR_step_1_preds = LR_step_1_model.predict(step_1_val_x)\n",
    "acc, f1 = print_score(LR_step_1_preds, y_val)\n",
    "\n",
    "check_acc.append(acc)\n",
    "check_f1.append(f1)"
   ]
  },
  {
   "cell_type": "code",
   "execution_count": 8,
   "id": "6ec81d0d",
   "metadata": {},
   "outputs": [
    {
     "name": "stdout",
     "output_type": "stream",
     "text": [
      "accuracy: 81.58%\n",
      "f1_score : 85.11%\n"
     ]
    }
   ],
   "source": [
    "#2단계 train 데이터 준비\n",
    "step_2_train_x = x_train.drop(\"restecg\",axis=1)\n",
    "\n",
    "#2단계 train\n",
    "LR_step_2_model= LogisticRegression()\n",
    "LR_step_2_model.fit(step_2_train_x, y_train)\n",
    "\n",
    "#2단계 validation 데이터 준비\n",
    "step_2_val_x = x_val.drop(\"restecg\", axis=1)\n",
    "\n",
    "#2단계 validation\n",
    "LR_step_2_preds = LR_step_2_model.predict(step_2_val_x)\n",
    "acc, f1 = print_score(LR_step_2_preds, y_val)\n",
    "\n",
    "check_acc.append(acc)\n",
    "check_f1.append(f1)"
   ]
  },
  {
   "cell_type": "code",
   "execution_count": 9,
   "id": "394cb86c",
   "metadata": {},
   "outputs": [
    {
     "name": "stdout",
     "output_type": "stream",
     "text": [
      "accuracy: 80.26%\n",
      "f1_score : 84.21%\n"
     ]
    }
   ],
   "source": [
    "#3단계 train 데이터 준비\n",
    "step_3_train_x = x_train.drop([\"restecg\",\"chol\"],axis=1)\n",
    "\n",
    "#3단계 train \n",
    "LR_step_3_model= LogisticRegression()\n",
    "LR_step_3_model.fit(step_3_train_x, y_train)\n",
    "\n",
    "#3단계 validation 데이터 준비\n",
    "step_3_val_x = x_val.drop([\"restecg\",\"chol\"],axis=1)\n",
    "\n",
    "#3단계 validation\n",
    "LR_step_3_preds = LR_step_3_model.predict(step_3_val_x)\n",
    "acc, f1 = print_score(LR_step_3_preds, y_val)\n",
    "\n",
    "check_acc.append(acc)\n",
    "check_f1.append(f1)"
   ]
  },
  {
   "cell_type": "code",
   "execution_count": 10,
   "id": "511b31bd",
   "metadata": {},
   "outputs": [
    {
     "name": "stdout",
     "output_type": "stream",
     "text": [
      "accuracy: 81.58%\n",
      "f1_score : 85.11%\n"
     ]
    }
   ],
   "source": [
    "#4단계 train 데이터 준비\n",
    "step_4_train_x = x_train.drop([\"restecg\",\"chol\",\"fbs\"],axis=1)\n",
    "\n",
    "#4단계 train\n",
    "LR_step_4_model= LogisticRegression()\n",
    "LR_step_4_model.fit(step_4_train_x,y_train)\n",
    "\n",
    "#4단계 validaion 데이터 준비\n",
    "step_4_val_x = x_val.drop([\"restecg\",\"chol\",\"fbs\"],axis=1)\n",
    "\n",
    "#4단계 validation\n",
    "LR_step_4_preds = LR_step_4_model.predict(step_4_val_x)\n",
    "acc, f1 = print_score(LR_step_4_preds,y_val)\n",
    "\n",
    "check_acc.append(acc)\n",
    "check_f1.append(f1)"
   ]
  },
  {
   "cell_type": "code",
   "execution_count": 11,
   "id": "1d532588",
   "metadata": {},
   "outputs": [
    {
     "name": "stdout",
     "output_type": "stream",
     "text": [
      "accuracy: 82.89%\n",
      "f1_score : 85.71%\n"
     ]
    }
   ],
   "source": [
    "#5단계 trian 데이터 준비\n",
    "step_5_train_x = x_train.drop([\"restecg\",\"chol\",\"fbs\",\"trestbps\"],axis=1)\n",
    "\n",
    "#5단계 train\n",
    "LR_step_5_model= LogisticRegression()\n",
    "LR_step_5_model.fit(step_5_train_x,y_train)\n",
    "\n",
    "#5단계 validation 데이터 준비\n",
    "step_5_val_x = x_val.drop([\"restecg\",\"chol\",\"fbs\",\"trestbps\"],axis=1)\n",
    "\n",
    "#5단계 validation\n",
    "LR_step_5_preds = LR_step_5_model.predict(step_5_val_x)\n",
    "acc, f1 = print_score(LR_step_5_preds,y_val)\n",
    "\n",
    "check_acc.append(acc)\n",
    "check_f1.append(f1)"
   ]
  },
  {
   "cell_type": "code",
   "execution_count": 13,
   "id": "3b58d6e5",
   "metadata": {},
   "outputs": [
    {
     "name": "stdout",
     "output_type": "stream",
     "text": [
      "accuracy: 80.26%\n",
      "f1_score : 83.15%\n"
     ]
    }
   ],
   "source": [
    "#5단계 trian 데이터 준비\n",
    "step_6_train_x = x_train.drop([\"restecg\",\"chol\",\"fbs\",\"trestbps\",\"sex\"],axis=1)\n",
    "\n",
    "#5단계 train\n",
    "LR_step_6_model= LogisticRegression()\n",
    "LR_step_6_model.fit(step_6_train_x,y_train)\n",
    "\n",
    "#5단계 validation 데이터 준비\n",
    "step_6_val_x = x_val.drop([\"restecg\",\"chol\",\"fbs\",\"trestbps\",\"sex\"],axis=1)\n",
    "\n",
    "#5단계 validation\n",
    "LR_step_6_preds = LR_step_6_model.predict(step_6_val_x)\n",
    "acc, f1 = print_score(LR_step_6_preds,y_val)\n",
    "\n",
    "check_acc.append(acc)\n",
    "check_f1.append(f1)"
   ]
  },
  {
   "cell_type": "markdown",
   "id": "6994d8c7",
   "metadata": {},
   "source": [
    "# thal 값 삭제"
   ]
  },
  {
   "cell_type": "code",
   "execution_count": 90,
   "id": "16a0e93f",
   "metadata": {},
   "outputs": [],
   "source": [
    "import pandas as pd\n",
    "import numpy as np\n",
    "from sklearn.linear_model import LogisticRegression\n",
    "from sklearn.tree import DecisionTreeRegressor\n",
    "from sklearn.metrics import f1_score\n",
    "from sklearn.metrics import plot_confusion_matrix\n",
    "import matplotlib.pyplot as plt\n",
    "import seaborn as sns\n",
    "import warnings\n",
    "warnings.filterwarnings(action='ignore')\n",
    "import matplotlib.pyplot as plt\n",
    "import seaborn as sns\n",
    "from matplotlib import patches\n",
    "%matplotlib inline\n",
    "\n",
    "\n",
    "heart_data = pd.read_csv('./train.csv')\n",
    "heart_test = pd.read_csv('./test.csv')"
   ]
  },
  {
   "cell_type": "code",
   "execution_count": 97,
   "id": "2a2d2ddc",
   "metadata": {},
   "outputs": [
    {
     "data": {
      "text/plain": [
       "id   age  sex  cp  thalach  exang  oldpeak  slope  ca  thal  target\n",
       "1    53   1    2   152      0      1.2      0      0   2     1         1\n",
       "95   60   1    0   141      1      2.8      1      1   3     0         1\n",
       "97   53   0    0   143      0      0.4      1      0   2     1         1\n",
       "98   63   1    0   132      1      1.8      2      3   3     0         1\n",
       "99   70   1    1   143      0      0.0      2      0   2     1         1\n",
       "                                                                      ..\n",
       "51   57   1    1   141      0      0.3      2      0   3     0         1\n",
       "52   51   1    2   123      0      0.6      2      0   2     1         1\n",
       "53   54   1    0   126      1      2.8      1      1   3     0         1\n",
       "54   57   0    0   163      1      0.6      2      0   2     1         1\n",
       "151  63   0    1   179      0      0.0      2      2   2     1         1\n",
       "Length: 150, dtype: int64"
      ]
     },
     "execution_count": 97,
     "metadata": {},
     "output_type": "execute_result"
    }
   ],
   "source": [
    "heart_data_1 = heart_data\n",
    "heart_data_1.value_counts()"
   ]
  },
  {
   "cell_type": "code",
   "execution_count": 93,
   "id": "b19ab60a",
   "metadata": {},
   "outputs": [],
   "source": [
    "sample_train_x = heart_data_1.drop(heart_data_1[heart_data_1['thal']==0].index,inplace= True)\n",
    "sample_train_x = heart_data_1.drop(heart_data_1[heart_data_1['ca'] == 4].index,inplace=True)"
   ]
  },
  {
   "cell_type": "code",
   "execution_count": 100,
   "id": "196def5d",
   "metadata": {},
   "outputs": [
    {
     "data": {
      "text/plain": [
       "0    94\n",
       "1    31\n",
       "2    15\n",
       "3    10\n",
       "Name: ca, dtype: int64"
      ]
     },
     "execution_count": 100,
     "metadata": {},
     "output_type": "execute_result"
    }
   ],
   "source": [
    "heart_data_1['ca'].value_counts()"
   ]
  },
  {
   "cell_type": "code",
   "execution_count": 83,
   "id": "ff6eb88d",
   "metadata": {},
   "outputs": [
    {
     "ename": "KeyError",
     "evalue": "\"['restecg' 'chol' 'fbs' 'trestbps'] not found in axis\"",
     "output_type": "error",
     "traceback": [
      "\u001b[1;31m---------------------------------------------------------------------------\u001b[0m",
      "\u001b[1;31mKeyError\u001b[0m                                  Traceback (most recent call last)",
      "\u001b[1;32m<ipython-input-83-eb63aa085385>\u001b[0m in \u001b[0;36m<module>\u001b[1;34m\u001b[0m\n\u001b[0;32m      1\u001b[0m \u001b[0mheart_test_1\u001b[0m \u001b[1;33m=\u001b[0m \u001b[0mheart_test\u001b[0m\u001b[1;33m\u001b[0m\u001b[1;33m\u001b[0m\u001b[0m\n\u001b[1;32m----> 2\u001b[1;33m \u001b[0msample_test_x\u001b[0m \u001b[1;33m=\u001b[0m \u001b[0mheart_test_1\u001b[0m\u001b[1;33m.\u001b[0m\u001b[0mdrop\u001b[0m\u001b[1;33m(\u001b[0m\u001b[1;33m[\u001b[0m\u001b[1;34m\"restecg\"\u001b[0m\u001b[1;33m,\u001b[0m\u001b[1;34m\"chol\"\u001b[0m\u001b[1;33m,\u001b[0m\u001b[1;34m\"fbs\"\u001b[0m\u001b[1;33m,\u001b[0m\u001b[1;34m\"trestbps\"\u001b[0m\u001b[1;33m]\u001b[0m\u001b[1;33m,\u001b[0m\u001b[0maxis\u001b[0m\u001b[1;33m=\u001b[0m\u001b[1;36m1\u001b[0m\u001b[1;33m,\u001b[0m\u001b[0minplace\u001b[0m\u001b[1;33m=\u001b[0m\u001b[1;32mTrue\u001b[0m\u001b[1;33m)\u001b[0m\u001b[1;33m\u001b[0m\u001b[1;33m\u001b[0m\u001b[0m\n\u001b[0m",
      "\u001b[1;32m~\\anaconda3\\lib\\site-packages\\pandas\\core\\frame.py\u001b[0m in \u001b[0;36mdrop\u001b[1;34m(self, labels, axis, index, columns, level, inplace, errors)\u001b[0m\n\u001b[0;32m   4306\u001b[0m                 \u001b[0mweight\u001b[0m  \u001b[1;36m1.0\u001b[0m     \u001b[1;36m0.8\u001b[0m\u001b[1;33m\u001b[0m\u001b[1;33m\u001b[0m\u001b[0m\n\u001b[0;32m   4307\u001b[0m         \"\"\"\n\u001b[1;32m-> 4308\u001b[1;33m         return super().drop(\n\u001b[0m\u001b[0;32m   4309\u001b[0m             \u001b[0mlabels\u001b[0m\u001b[1;33m=\u001b[0m\u001b[0mlabels\u001b[0m\u001b[1;33m,\u001b[0m\u001b[1;33m\u001b[0m\u001b[1;33m\u001b[0m\u001b[0m\n\u001b[0;32m   4310\u001b[0m             \u001b[0maxis\u001b[0m\u001b[1;33m=\u001b[0m\u001b[0maxis\u001b[0m\u001b[1;33m,\u001b[0m\u001b[1;33m\u001b[0m\u001b[1;33m\u001b[0m\u001b[0m\n",
      "\u001b[1;32m~\\anaconda3\\lib\\site-packages\\pandas\\core\\generic.py\u001b[0m in \u001b[0;36mdrop\u001b[1;34m(self, labels, axis, index, columns, level, inplace, errors)\u001b[0m\n\u001b[0;32m   4151\u001b[0m         \u001b[1;32mfor\u001b[0m \u001b[0maxis\u001b[0m\u001b[1;33m,\u001b[0m \u001b[0mlabels\u001b[0m \u001b[1;32min\u001b[0m \u001b[0maxes\u001b[0m\u001b[1;33m.\u001b[0m\u001b[0mitems\u001b[0m\u001b[1;33m(\u001b[0m\u001b[1;33m)\u001b[0m\u001b[1;33m:\u001b[0m\u001b[1;33m\u001b[0m\u001b[1;33m\u001b[0m\u001b[0m\n\u001b[0;32m   4152\u001b[0m             \u001b[1;32mif\u001b[0m \u001b[0mlabels\u001b[0m \u001b[1;32mis\u001b[0m \u001b[1;32mnot\u001b[0m \u001b[1;32mNone\u001b[0m\u001b[1;33m:\u001b[0m\u001b[1;33m\u001b[0m\u001b[1;33m\u001b[0m\u001b[0m\n\u001b[1;32m-> 4153\u001b[1;33m                 \u001b[0mobj\u001b[0m \u001b[1;33m=\u001b[0m \u001b[0mobj\u001b[0m\u001b[1;33m.\u001b[0m\u001b[0m_drop_axis\u001b[0m\u001b[1;33m(\u001b[0m\u001b[0mlabels\u001b[0m\u001b[1;33m,\u001b[0m \u001b[0maxis\u001b[0m\u001b[1;33m,\u001b[0m \u001b[0mlevel\u001b[0m\u001b[1;33m=\u001b[0m\u001b[0mlevel\u001b[0m\u001b[1;33m,\u001b[0m \u001b[0merrors\u001b[0m\u001b[1;33m=\u001b[0m\u001b[0merrors\u001b[0m\u001b[1;33m)\u001b[0m\u001b[1;33m\u001b[0m\u001b[1;33m\u001b[0m\u001b[0m\n\u001b[0m\u001b[0;32m   4154\u001b[0m \u001b[1;33m\u001b[0m\u001b[0m\n\u001b[0;32m   4155\u001b[0m         \u001b[1;32mif\u001b[0m \u001b[0minplace\u001b[0m\u001b[1;33m:\u001b[0m\u001b[1;33m\u001b[0m\u001b[1;33m\u001b[0m\u001b[0m\n",
      "\u001b[1;32m~\\anaconda3\\lib\\site-packages\\pandas\\core\\generic.py\u001b[0m in \u001b[0;36m_drop_axis\u001b[1;34m(self, labels, axis, level, errors)\u001b[0m\n\u001b[0;32m   4186\u001b[0m                 \u001b[0mnew_axis\u001b[0m \u001b[1;33m=\u001b[0m \u001b[0maxis\u001b[0m\u001b[1;33m.\u001b[0m\u001b[0mdrop\u001b[0m\u001b[1;33m(\u001b[0m\u001b[0mlabels\u001b[0m\u001b[1;33m,\u001b[0m \u001b[0mlevel\u001b[0m\u001b[1;33m=\u001b[0m\u001b[0mlevel\u001b[0m\u001b[1;33m,\u001b[0m \u001b[0merrors\u001b[0m\u001b[1;33m=\u001b[0m\u001b[0merrors\u001b[0m\u001b[1;33m)\u001b[0m\u001b[1;33m\u001b[0m\u001b[1;33m\u001b[0m\u001b[0m\n\u001b[0;32m   4187\u001b[0m             \u001b[1;32melse\u001b[0m\u001b[1;33m:\u001b[0m\u001b[1;33m\u001b[0m\u001b[1;33m\u001b[0m\u001b[0m\n\u001b[1;32m-> 4188\u001b[1;33m                 \u001b[0mnew_axis\u001b[0m \u001b[1;33m=\u001b[0m \u001b[0maxis\u001b[0m\u001b[1;33m.\u001b[0m\u001b[0mdrop\u001b[0m\u001b[1;33m(\u001b[0m\u001b[0mlabels\u001b[0m\u001b[1;33m,\u001b[0m \u001b[0merrors\u001b[0m\u001b[1;33m=\u001b[0m\u001b[0merrors\u001b[0m\u001b[1;33m)\u001b[0m\u001b[1;33m\u001b[0m\u001b[1;33m\u001b[0m\u001b[0m\n\u001b[0m\u001b[0;32m   4189\u001b[0m             \u001b[0mresult\u001b[0m \u001b[1;33m=\u001b[0m \u001b[0mself\u001b[0m\u001b[1;33m.\u001b[0m\u001b[0mreindex\u001b[0m\u001b[1;33m(\u001b[0m\u001b[1;33m**\u001b[0m\u001b[1;33m{\u001b[0m\u001b[0maxis_name\u001b[0m\u001b[1;33m:\u001b[0m \u001b[0mnew_axis\u001b[0m\u001b[1;33m}\u001b[0m\u001b[1;33m)\u001b[0m\u001b[1;33m\u001b[0m\u001b[1;33m\u001b[0m\u001b[0m\n\u001b[0;32m   4190\u001b[0m \u001b[1;33m\u001b[0m\u001b[0m\n",
      "\u001b[1;32m~\\anaconda3\\lib\\site-packages\\pandas\\core\\indexes\\base.py\u001b[0m in \u001b[0;36mdrop\u001b[1;34m(self, labels, errors)\u001b[0m\n\u001b[0;32m   5589\u001b[0m         \u001b[1;32mif\u001b[0m \u001b[0mmask\u001b[0m\u001b[1;33m.\u001b[0m\u001b[0many\u001b[0m\u001b[1;33m(\u001b[0m\u001b[1;33m)\u001b[0m\u001b[1;33m:\u001b[0m\u001b[1;33m\u001b[0m\u001b[1;33m\u001b[0m\u001b[0m\n\u001b[0;32m   5590\u001b[0m             \u001b[1;32mif\u001b[0m \u001b[0merrors\u001b[0m \u001b[1;33m!=\u001b[0m \u001b[1;34m\"ignore\"\u001b[0m\u001b[1;33m:\u001b[0m\u001b[1;33m\u001b[0m\u001b[1;33m\u001b[0m\u001b[0m\n\u001b[1;32m-> 5591\u001b[1;33m                 \u001b[1;32mraise\u001b[0m \u001b[0mKeyError\u001b[0m\u001b[1;33m(\u001b[0m\u001b[1;34mf\"{labels[mask]} not found in axis\"\u001b[0m\u001b[1;33m)\u001b[0m\u001b[1;33m\u001b[0m\u001b[1;33m\u001b[0m\u001b[0m\n\u001b[0m\u001b[0;32m   5592\u001b[0m             \u001b[0mindexer\u001b[0m \u001b[1;33m=\u001b[0m \u001b[0mindexer\u001b[0m\u001b[1;33m[\u001b[0m\u001b[1;33m~\u001b[0m\u001b[0mmask\u001b[0m\u001b[1;33m]\u001b[0m\u001b[1;33m\u001b[0m\u001b[1;33m\u001b[0m\u001b[0m\n\u001b[0;32m   5593\u001b[0m         \u001b[1;32mreturn\u001b[0m \u001b[0mself\u001b[0m\u001b[1;33m.\u001b[0m\u001b[0mdelete\u001b[0m\u001b[1;33m(\u001b[0m\u001b[0mindexer\u001b[0m\u001b[1;33m)\u001b[0m\u001b[1;33m\u001b[0m\u001b[1;33m\u001b[0m\u001b[0m\n",
      "\u001b[1;31mKeyError\u001b[0m: \"['restecg' 'chol' 'fbs' 'trestbps'] not found in axis\""
     ]
    }
   ],
   "source": [
    "heart_test_1 = heart_test\n",
    "sample_test_x = heart_test_1.drop([\"restecg\",\"chol\",\"fbs\",\"trestbps\"],axis=1,inplace=True)"
   ]
  },
  {
   "cell_type": "code",
   "execution_count": 89,
   "id": "b744f661",
   "metadata": {},
   "outputs": [
    {
     "ename": "AttributeError",
     "evalue": "'NoneType' object has no attribute 'head'",
     "output_type": "error",
     "traceback": [
      "\u001b[1;31m---------------------------------------------------------------------------\u001b[0m",
      "\u001b[1;31mAttributeError\u001b[0m                            Traceback (most recent call last)",
      "\u001b[1;32m<ipython-input-89-ebc6842eb1b5>\u001b[0m in \u001b[0;36m<module>\u001b[1;34m\u001b[0m\n\u001b[1;32m----> 1\u001b[1;33m \u001b[0msample_train_x\u001b[0m\u001b[1;33m.\u001b[0m\u001b[0mhead\u001b[0m\u001b[1;33m(\u001b[0m\u001b[1;33m)\u001b[0m\u001b[1;33m\u001b[0m\u001b[1;33m\u001b[0m\u001b[0m\n\u001b[0m",
      "\u001b[1;31mAttributeError\u001b[0m: 'NoneType' object has no attribute 'head'"
     ]
    }
   ],
   "source": [
    "sample_train_x.head()"
   ]
  },
  {
   "cell_type": "code",
   "execution_count": 43,
   "id": "9d9b77b6",
   "metadata": {},
   "outputs": [],
   "source": [
    "X_train = sample_train_x.iloc[:,1:-1]\n",
    "y_train = sample_train_x.iloc[:,-1]"
   ]
  },
  {
   "cell_type": "code",
   "execution_count": 44,
   "id": "70d4bc33",
   "metadata": {},
   "outputs": [],
   "source": [
    "X_test = heart_test.iloc[:,1:]"
   ]
  },
  {
   "cell_type": "code",
   "execution_count": 45,
   "id": "953228e8",
   "metadata": {},
   "outputs": [],
   "source": [
    "from sklearn.metrics import accuracy_score\n",
    "logistic_regression_model = LogisticRegression()\n",
    "\n",
    "logistic_regression_model.fit(X_train, y_train)\n",
    "\n",
    "test_preds = logistic_regression_model.predict(X_test)"
   ]
  },
  {
   "cell_type": "code",
   "execution_count": 47,
   "id": "5debd8a2",
   "metadata": {},
   "outputs": [],
   "source": [
    "submission = pd.read_csv('./sample_submission.csv')\n",
    "submission['target'] = test_preds\n",
    "\n",
    "submission.to_csv('logistic_regression_5.csv',index = False)"
   ]
  },
  {
   "cell_type": "markdown",
   "id": "7ace8fae",
   "metadata": {},
   "source": [
    "# 6번째 ca = 4 인 data 없애기"
   ]
  },
  {
   "cell_type": "code",
   "execution_count": 101,
   "id": "55ee7df2",
   "metadata": {},
   "outputs": [],
   "source": [
    "X_train = heart_data_1.iloc[:,1:-1]\n",
    "y_train = heart_data_1.iloc[:,-1]"
   ]
  },
  {
   "cell_type": "code",
   "execution_count": 106,
   "id": "31ce6e3e",
   "metadata": {},
   "outputs": [],
   "source": [
    "X_test = heart_test_1.iloc[:,1:]"
   ]
  },
  {
   "cell_type": "code",
   "execution_count": 107,
   "id": "a31ac963",
   "metadata": {},
   "outputs": [],
   "source": [
    "from sklearn.metrics import accuracy_score\n",
    "logistic_regression_model = LogisticRegression()\n",
    "\n",
    "logistic_regression_model.fit(X_train, y_train)\n",
    "\n",
    "test_preds = logistic_regression_model.predict(X_test)"
   ]
  },
  {
   "cell_type": "code",
   "execution_count": 108,
   "id": "f870c03e",
   "metadata": {},
   "outputs": [],
   "source": [
    "submission = pd.read_csv('./sample_submission.csv')\n",
    "submission['target'] = test_preds\n",
    "\n",
    "submission.to_csv('logistic_regression_6.csv',index = False)"
   ]
  },
  {
   "cell_type": "code",
   "execution_count": null,
   "id": "56085f3f",
   "metadata": {},
   "outputs": [],
   "source": []
  }
 ],
 "metadata": {
  "kernelspec": {
   "display_name": "Python 3",
   "language": "python",
   "name": "python3"
  },
  "language_info": {
   "codemirror_mode": {
    "name": "ipython",
    "version": 3
   },
   "file_extension": ".py",
   "mimetype": "text/x-python",
   "name": "python",
   "nbconvert_exporter": "python",
   "pygments_lexer": "ipython3",
   "version": "3.8.8"
  }
 },
 "nbformat": 4,
 "nbformat_minor": 5
}
